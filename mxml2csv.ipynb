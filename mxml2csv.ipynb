{
 "cells": [
  {
   "cell_type": "code",
   "execution_count": null,
   "metadata": {},
   "outputs": [],
   "source": [
    "import xml.etree.cElementTree as et\n",
    "import pandas as pd\n",
    "from tqdm import tqdm\n",
    "from datetime import datetime"
   ]
  },
  {
   "cell_type": "code",
   "execution_count": null,
   "metadata": {},
   "outputs": [],
   "source": [
    "path = 'DATA/logs/IRO/IRO5k.mxml'\n",
    "tree = et.parse(path)\n",
    "root = tree.getroot()\n",
    "log = pd.DataFrame(columns = ['id', 'activity_name', 'type'])\n",
    "for i in tqdm(range(len(root[2]))):\n",
    "    for j in range(1, len(root[2][i])):\n",
    "        \n",
    "        d = dict([('id', root[2][i].attrib['id']), ('activity_name', root[2][i][j][0].text), ('type', root[2][i][j][1].text)])\n",
    "        log = log.append(d, ignore_index=True)\n",
    "\n",
    "log.to_csv('{}.csv'.format(path[:-4]))"
   ]
  },
  {
   "cell_type": "code",
   "execution_count": null,
   "metadata": {},
   "outputs": [],
   "source": [
    "# tree = et.parse('cb2.5k.mxml')\n",
    "# root = tree.getroot()\n",
    "\n",
    "# log = pd.DataFrame(columns = ['id', 'activity_name', 'type', 'timestamp', 'resource'])\n",
    "# for i in tqdm(range(len(root[2]))):\n",
    "#     for j in range(1, len(root[2][i])):\n",
    "#         d = dict([('id', root[2][i].attrib['id']), ('activity_name', root[2][i][j][0].text), ('type', root[2][i][j][1].text), ('timestamp', datetime.fromisoformat(root[2][i][j][2].text).strftime('%Y-%m-%d %H:%M:%S'))])\n",
    "#         try:\n",
    "#             d['resource'] = root[2][i][j][3].text\n",
    "#         except IndexError:\n",
    "#             pass\n",
    "#         log = log.append(d, ignore_index=True)\n",
    "\n",
    "# log.to_csv('cb2.5k.csv')"
   ]
  }
 ],
 "metadata": {
  "kernelspec": {
   "display_name": "Python 3",
   "language": "python",
   "name": "python3"
  },
  "language_info": {
   "codemirror_mode": {
    "name": "ipython",
    "version": 3
   },
   "file_extension": ".py",
   "mimetype": "text/x-python",
   "name": "python",
   "nbconvert_exporter": "python",
   "pygments_lexer": "ipython3",
   "version": "3.7.4"
  }
 },
 "nbformat": 4,
 "nbformat_minor": 2
}
